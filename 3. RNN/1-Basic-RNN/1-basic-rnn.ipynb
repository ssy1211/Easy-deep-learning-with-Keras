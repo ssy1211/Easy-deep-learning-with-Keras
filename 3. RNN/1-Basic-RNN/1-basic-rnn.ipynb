{
 "cells": [
  {
   "cell_type": "markdown",
   "metadata": {},
   "source": [
    "# Basic RNN\n",
    "- Objective: to understand basics of RNN & LSTM"
   ]
  },
  {
   "cell_type": "markdown",
   "metadata": {},
   "source": [
    "## Recurrent Neural Networks\n",
    "- Feedforward neural networks (e.g. MLPs and CNNs) are powerful, but they are not optimized to handle \"sequential\" data\n",
    "- In other words, they do not possess \"memory\" of previous inputs\n",
    "- For instance, consider the case of translating a corpus. You need to consider the **\"context\"** to guess the next word to come forward\n",
    "\n",
    "<img src=\"http://2.bp.blogspot.com/-9GIdV292xV4/UwOIy6B6koI/AAAAAAAAHi4/X6UGlyHI-_U/s1600/tumblr_ms5qzpFY671r9nm7io1_500.gif\" style=\"width: 500px\"/>\n",
    "\n",
    "<br>\n",
    "- RNNs are suitable for dealing with sequential format data since they have **\"recurrent\"** structure\n",
    "- To put it differently, they keep the **\"memory\"** of earlier inputs in the sequence\n",
    "</br>\n",
    "<img src=\"http://www.wildml.com/wp-content/uploads/2015/09/rnn.jpg\" style=\"width: 600px\"/>\n",
    "\n",
    "<br>\n",
    "- However, in order to reduce the number of parameters, every layer of different time steps shares same parameters\n",
    "</br>\n",
    "\n",
    "<img src=\"http://colah.github.io/posts/2015-08-Understanding-LSTMs/img/RNN-unrolled.png\" style=\"width: 600px\"/>"
   ]
  },
  {
   "cell_type": "markdown",
   "metadata": {},
   "source": [
    "## Load Dataset"
   ]
  },
  {
   "cell_type": "code",
   "execution_count": 1,
   "metadata": {},
   "outputs": [
    {
     "name": "stderr",
     "output_type": "stream",
     "text": [
      "Using TensorFlow backend.\n"
     ]
    }
   ],
   "source": [
    "import numpy as np\n",
    "\n",
    "from sklearn.metrics import accuracy_score\n",
    "from keras.datasets import reuters\n",
    "from keras.preprocessing.sequence import pad_sequences\n",
    "from keras.utils import to_categorical"
   ]
  },
  {
   "cell_type": "code",
   "execution_count": 2,
   "metadata": {},
   "outputs": [],
   "source": [
    "# parameters for data load\n",
    "num_words = 30000\n",
    "maxlen = 50\n",
    "test_split = 0.3"
   ]
  },
  {
   "cell_type": "code",
   "execution_count": 3,
   "metadata": {},
   "outputs": [
    {
     "name": "stdout",
     "output_type": "stream",
     "text": [
      "Downloading data from https://s3.amazonaws.com/text-datasets/reuters.npz\n",
      "2113536/2110848 [==============================] - 1s 1us/step\n"
     ]
    }
   ],
   "source": [
    "(X_train, y_train), (X_test, y_test) = reuters.load_data(num_words = num_words, maxlen = maxlen, test_split = test_split)"
   ]
  },
  {
   "cell_type": "code",
   "execution_count": 4,
   "metadata": {},
   "outputs": [],
   "source": [
    "# pad the sequences with zeros \n",
    "# padding parameter is set to 'post' => 0's are appended to end of sequences\n",
    "X_train = pad_sequences(X_train, padding = 'post')\n",
    "X_test = pad_sequences(X_test, padding = 'post')"
   ]
  },
  {
   "cell_type": "code",
   "execution_count": 5,
   "metadata": {},
   "outputs": [],
   "source": [
    "X_train = np.array(X_train).reshape((X_train.shape[0], X_train.shape[1], 1))\n",
    "X_test = np.array(X_test).reshape((X_test.shape[0], X_test.shape[1], 1))"
   ]
  },
  {
   "cell_type": "code",
   "execution_count": 6,
   "metadata": {},
   "outputs": [],
   "source": [
    "y_data = np.concatenate((y_train, y_test))\n",
    "y_data = to_categorical(y_data)"
   ]
  },
  {
   "cell_type": "code",
   "execution_count": 7,
   "metadata": {},
   "outputs": [],
   "source": [
    "y_train = y_data[:1395]\n",
    "y_test = y_data[1395:]"
   ]
  },
  {
   "cell_type": "code",
   "execution_count": 10,
   "metadata": {},
   "outputs": [
    {
     "name": "stdout",
     "output_type": "stream",
     "text": [
      "(1395, 49, 1)\n",
      "(599, 49, 1)\n",
      "(1395, 46)\n",
      "(599, 46)\n"
     ]
    }
   ],
   "source": [
    "print(X_train.shape)\n",
    "print(X_test.shape)\n",
    "print(y_train.shape)\n",
    "print(y_test.shape)"
   ]
  },
  {
   "cell_type": "markdown",
   "metadata": {},
   "source": [
    "## 1. Vanilla RNN\n",
    "- Vanilla RNNs have a simple structure\n",
    "- However, they suffer from the problem of \"long-term dependencies\"\n",
    "- Hence, they are not able to keep the **sequential memory\" for long\n",
    "\n",
    "<img src=\"http://colah.github.io/posts/2015-08-Understanding-LSTMs/img/LSTM3-SimpleRNN.png\" style=\"width: 600px\"/>"
   ]
  },
  {
   "cell_type": "code",
   "execution_count": 11,
   "metadata": {},
   "outputs": [],
   "source": [
    "from keras.models import Sequential\n",
    "from keras.layers import Dense, SimpleRNN, Activation\n",
    "from keras import optimizers\n",
    "from keras.wrappers.scikit_learn import KerasClassifier"
   ]
  },
  {
   "cell_type": "code",
   "execution_count": 12,
   "metadata": {},
   "outputs": [],
   "source": [
    "def vanilla_rnn():\n",
    "    model = Sequential()\n",
    "    model.add(SimpleRNN(50, input_shape = (49,1), return_sequences = False))\n",
    "    model.add(Dense(46))\n",
    "    model.add(Activation('softmax'))\n",
    "    \n",
    "    adam = optimizers.Adam(lr = 0.001)\n",
    "    model.compile(loss = 'categorical_crossentropy', optimizer = adam, metrics = ['accuracy'])\n",
    "    \n",
    "    return model"
   ]
  },
  {
   "cell_type": "code",
   "execution_count": 13,
   "metadata": {},
   "outputs": [],
   "source": [
    "model = KerasClassifier(build_fn = vanilla_rnn, epochs = 200, batch_size = 50, verbose = 1)"
   ]
  },
  {
   "cell_type": "code",
   "execution_count": 14,
   "metadata": {},
   "outputs": [
    {
     "name": "stdout",
     "output_type": "stream",
     "text": [
      "Epoch 1/200\n",
      "1395/1395 [==============================] - 1s 617us/step - loss: 2.8998 - accuracy: 0.4272\n",
      "Epoch 2/200\n",
      "1395/1395 [==============================] - 0s 252us/step - loss: 1.4049 - accuracy: 0.6738\n",
      "Epoch 3/200\n",
      "1395/1395 [==============================] - 0s 242us/step - loss: 1.2218 - accuracy: 0.6968\n",
      "Epoch 4/200\n",
      "1395/1395 [==============================] - 0s 234us/step - loss: 1.1840 - accuracy: 0.7147\n",
      "Epoch 5/200\n",
      "1395/1395 [==============================] - 0s 275us/step - loss: 1.1695 - accuracy: 0.7147\n",
      "Epoch 6/200\n",
      "1395/1395 [==============================] - 0s 275us/step - loss: 1.1626 - accuracy: 0.7147\n",
      "Epoch 7/200\n",
      "1395/1395 [==============================] - 0s 269us/step - loss: 1.1572 - accuracy: 0.7147\n",
      "Epoch 8/200\n",
      "1395/1395 [==============================] - 0s 263us/step - loss: 1.1536 - accuracy: 0.7147\n",
      "Epoch 9/200\n",
      "1395/1395 [==============================] - 0s 231us/step - loss: 1.1524 - accuracy: 0.7147\n",
      "Epoch 10/200\n",
      "1395/1395 [==============================] - 0s 243us/step - loss: 1.1500 - accuracy: 0.7147\n",
      "Epoch 11/200\n",
      "1395/1395 [==============================] - 0s 237us/step - loss: 1.1510 - accuracy: 0.7147\n",
      "Epoch 12/200\n",
      "1395/1395 [==============================] - 0s 237us/step - loss: 1.1476 - accuracy: 0.7147\n",
      "Epoch 13/200\n",
      "1395/1395 [==============================] - 0s 254us/step - loss: 1.1471 - accuracy: 0.7147\n",
      "Epoch 14/200\n",
      "1395/1395 [==============================] - 0s 237us/step - loss: 1.1465 - accuracy: 0.7147\n",
      "Epoch 15/200\n",
      "1395/1395 [==============================] - 0s 229us/step - loss: 1.1443 - accuracy: 0.7147\n",
      "Epoch 16/200\n",
      "1395/1395 [==============================] - 0s 234us/step - loss: 1.1423 - accuracy: 0.7147\n",
      "Epoch 17/200\n",
      "1395/1395 [==============================] - 0s 247us/step - loss: 1.1412 - accuracy: 0.7147\n",
      "Epoch 18/200\n",
      "1395/1395 [==============================] - 0s 244us/step - loss: 1.1419 - accuracy: 0.7147\n",
      "Epoch 19/200\n",
      "1395/1395 [==============================] - 0s 241us/step - loss: 1.1408 - accuracy: 0.7147\n",
      "Epoch 20/200\n",
      "1395/1395 [==============================] - 0s 248us/step - loss: 1.1398 - accuracy: 0.7147\n",
      "Epoch 21/200\n",
      "1395/1395 [==============================] - 0s 234us/step - loss: 1.1421 - accuracy: 0.7147\n",
      "Epoch 22/200\n",
      "1395/1395 [==============================] - 0s 244us/step - loss: 1.1371 - accuracy: 0.7154\n",
      "Epoch 23/200\n",
      "1395/1395 [==============================] - 0s 254us/step - loss: 1.1385 - accuracy: 0.7140\n",
      "Epoch 24/200\n",
      "1395/1395 [==============================] - 0s 342us/step - loss: 1.1373 - accuracy: 0.7147\n",
      "Epoch 25/200\n",
      "1395/1395 [==============================] - 0s 275us/step - loss: 1.1359 - accuracy: 0.7154\n",
      "Epoch 26/200\n",
      "1395/1395 [==============================] - 0s 269us/step - loss: 1.1356 - accuracy: 0.7140\n",
      "Epoch 27/200\n",
      "1395/1395 [==============================] - 0s 248us/step - loss: 1.1342 - accuracy: 0.7176\n",
      "Epoch 28/200\n",
      "1395/1395 [==============================] - 0s 269us/step - loss: 1.1336 - accuracy: 0.7176\n",
      "Epoch 29/200\n",
      "1395/1395 [==============================] - 0s 260us/step - loss: 1.1367 - accuracy: 0.7147\n",
      "Epoch 30/200\n",
      "1395/1395 [==============================] - 0s 246us/step - loss: 1.1329 - accuracy: 0.7161\n",
      "Epoch 31/200\n",
      "1395/1395 [==============================] - 0s 252us/step - loss: 1.1336 - accuracy: 0.7176\n",
      "Epoch 32/200\n",
      "1395/1395 [==============================] - 0s 261us/step - loss: 1.1321 - accuracy: 0.7176\n",
      "Epoch 33/200\n",
      "1395/1395 [==============================] - 0s 241us/step - loss: 1.1310 - accuracy: 0.7154\n",
      "Epoch 34/200\n",
      "1395/1395 [==============================] - 0s 277us/step - loss: 1.1308 - accuracy: 0.7168\n",
      "Epoch 35/200\n",
      "1395/1395 [==============================] - 0s 281us/step - loss: 1.1279 - accuracy: 0.7176\n",
      "Epoch 36/200\n",
      "1395/1395 [==============================] - 0s 251us/step - loss: 1.1277 - accuracy: 0.7168\n",
      "Epoch 37/200\n",
      "1395/1395 [==============================] - 0s 271us/step - loss: 1.1257 - accuracy: 0.7147\n",
      "Epoch 38/200\n",
      "1395/1395 [==============================] - 0s 246us/step - loss: 1.1287 - accuracy: 0.7147\n",
      "Epoch 39/200\n",
      "1395/1395 [==============================] - 0s 250us/step - loss: 1.1243 - accuracy: 0.7190\n",
      "Epoch 40/200\n",
      "1395/1395 [==============================] - 0s 229us/step - loss: 1.1225 - accuracy: 0.7204\n",
      "Epoch 41/200\n",
      "1395/1395 [==============================] - 0s 255us/step - loss: 1.1155 - accuracy: 0.7183\n",
      "Epoch 42/200\n",
      "1395/1395 [==============================] - 0s 247us/step - loss: 1.1046 - accuracy: 0.7190\n",
      "Epoch 43/200\n",
      "1395/1395 [==============================] - 0s 244us/step - loss: 1.0970 - accuracy: 0.7197\n",
      "Epoch 44/200\n",
      "1395/1395 [==============================] - 0s 258us/step - loss: 1.0957 - accuracy: 0.7168\n",
      "Epoch 45/200\n",
      "1395/1395 [==============================] - 0s 255us/step - loss: 1.1043 - accuracy: 0.7168\n",
      "Epoch 46/200\n",
      "1395/1395 [==============================] - 0s 240us/step - loss: 1.1142 - accuracy: 0.7190\n",
      "Epoch 47/200\n",
      "1395/1395 [==============================] - 0s 250us/step - loss: 1.0927 - accuracy: 0.7219\n",
      "Epoch 48/200\n",
      "1395/1395 [==============================] - 0s 243us/step - loss: 1.0599 - accuracy: 0.7211\n",
      "Epoch 49/200\n",
      "1395/1395 [==============================] - 0s 256us/step - loss: 1.0465 - accuracy: 0.7183\n",
      "Epoch 50/200\n",
      "1395/1395 [==============================] - 0s 290us/step - loss: 1.0837 - accuracy: 0.7125\n",
      "Epoch 51/200\n",
      "1395/1395 [==============================] - 0s 250us/step - loss: 1.0370 - accuracy: 0.7161\n",
      "Epoch 52/200\n",
      "1395/1395 [==============================] - 0s 340us/step - loss: 1.0323 - accuracy: 0.7262\n",
      "Epoch 53/200\n",
      "1395/1395 [==============================] - 0s 263us/step - loss: 1.0304 - accuracy: 0.7154\n",
      "Epoch 54/200\n",
      "1395/1395 [==============================] - 0s 262us/step - loss: 1.0249 - accuracy: 0.7219\n",
      "Epoch 55/200\n",
      "1395/1395 [==============================] - 0s 249us/step - loss: 1.0229 - accuracy: 0.7240\n",
      "Epoch 56/200\n",
      "1395/1395 [==============================] - 0s 228us/step - loss: 1.0219 - accuracy: 0.7211\n",
      "Epoch 57/200\n",
      "1395/1395 [==============================] - 0s 259us/step - loss: 1.0279 - accuracy: 0.7211\n",
      "Epoch 58/200\n",
      "1395/1395 [==============================] - 0s 240us/step - loss: 1.0126 - accuracy: 0.7226\n",
      "Epoch 59/200\n",
      "1395/1395 [==============================] - 0s 280us/step - loss: 1.0068 - accuracy: 0.7204\n",
      "Epoch 60/200\n",
      "1395/1395 [==============================] - 0s 227us/step - loss: 1.0014 - accuracy: 0.7190\n",
      "Epoch 61/200\n",
      "1395/1395 [==============================] - 0s 294us/step - loss: 1.0097 - accuracy: 0.7226\n",
      "Epoch 62/200\n",
      "1395/1395 [==============================] - 0s 235us/step - loss: 0.9913 - accuracy: 0.7211\n",
      "Epoch 63/200\n",
      "1395/1395 [==============================] - 0s 247us/step - loss: 0.9977 - accuracy: 0.7254\n",
      "Epoch 64/200\n",
      "1395/1395 [==============================] - 0s 237us/step - loss: 0.9956 - accuracy: 0.7254\n",
      "Epoch 65/200\n",
      "1395/1395 [==============================] - 0s 231us/step - loss: 1.0076 - accuracy: 0.7190\n",
      "Epoch 66/200\n",
      "1395/1395 [==============================] - 0s 249us/step - loss: 0.9872 - accuracy: 0.7290\n",
      "Epoch 67/200\n",
      "1395/1395 [==============================] - 0s 268us/step - loss: 1.0045 - accuracy: 0.7326\n",
      "Epoch 68/200\n",
      "1395/1395 [==============================] - 0s 248us/step - loss: 1.0171 - accuracy: 0.7269\n",
      "Epoch 69/200\n",
      "1395/1395 [==============================] - 0s 266us/step - loss: 0.9886 - accuracy: 0.7283\n",
      "Epoch 70/200\n",
      "1395/1395 [==============================] - 0s 253us/step - loss: 0.9801 - accuracy: 0.7276\n",
      "Epoch 71/200\n",
      "1395/1395 [==============================] - 0s 243us/step - loss: 0.9754 - accuracy: 0.7326\n",
      "Epoch 72/200\n",
      "1395/1395 [==============================] - 0s 242us/step - loss: 0.9720 - accuracy: 0.7305\n",
      "Epoch 73/200\n",
      "1395/1395 [==============================] - 0s 238us/step - loss: 0.9689 - accuracy: 0.7312\n",
      "Epoch 74/200\n",
      "1395/1395 [==============================] - 0s 245us/step - loss: 0.9730 - accuracy: 0.7211\n",
      "Epoch 75/200\n",
      "1395/1395 [==============================] - 0s 272us/step - loss: 0.9706 - accuracy: 0.7290\n",
      "Epoch 76/200\n",
      "1395/1395 [==============================] - 0s 251us/step - loss: 0.9755 - accuracy: 0.7233\n",
      "Epoch 77/200\n",
      "1395/1395 [==============================] - 0s 253us/step - loss: 0.9623 - accuracy: 0.7247\n",
      "Epoch 78/200\n",
      "1395/1395 [==============================] - 0s 253us/step - loss: 0.9578 - accuracy: 0.7276\n",
      "Epoch 79/200\n",
      "1395/1395 [==============================] - 0s 244us/step - loss: 0.9561 - accuracy: 0.7319\n",
      "Epoch 80/200\n",
      "1395/1395 [==============================] - 0s 248us/step - loss: 0.9507 - accuracy: 0.7312\n",
      "Epoch 81/200\n",
      "1395/1395 [==============================] - 0s 270us/step - loss: 0.9544 - accuracy: 0.7319\n",
      "Epoch 82/200\n",
      "1395/1395 [==============================] - 0s 248us/step - loss: 0.9498 - accuracy: 0.7276\n",
      "Epoch 83/200\n",
      "1395/1395 [==============================] - 0s 250us/step - loss: 0.9445 - accuracy: 0.7290\n",
      "Epoch 84/200\n",
      "1395/1395 [==============================] - 0s 257us/step - loss: 0.9453 - accuracy: 0.7319\n",
      "Epoch 85/200\n",
      "1395/1395 [==============================] - 0s 250us/step - loss: 0.9432 - accuracy: 0.7333\n",
      "Epoch 86/200\n",
      "1395/1395 [==============================] - 0s 243us/step - loss: 0.9359 - accuracy: 0.7355\n",
      "Epoch 87/200\n",
      "1395/1395 [==============================] - 0s 249us/step - loss: 0.9372 - accuracy: 0.7362\n",
      "Epoch 88/200\n",
      "1395/1395 [==============================] - 0s 236us/step - loss: 0.9333 - accuracy: 0.7326\n",
      "Epoch 89/200\n",
      "1395/1395 [==============================] - 0s 231us/step - loss: 0.9266 - accuracy: 0.7391\n",
      "Epoch 90/200\n",
      "1395/1395 [==============================] - 0s 261us/step - loss: 0.9208 - accuracy: 0.7305\n",
      "Epoch 91/200\n",
      "1395/1395 [==============================] - 0s 251us/step - loss: 0.9222 - accuracy: 0.7319\n",
      "Epoch 92/200\n",
      "1395/1395 [==============================] - 0s 273us/step - loss: 0.9266 - accuracy: 0.7405\n",
      "Epoch 93/200\n",
      "1395/1395 [==============================] - 0s 264us/step - loss: 0.9240 - accuracy: 0.7341\n",
      "Epoch 94/200\n",
      "1395/1395 [==============================] - 0s 264us/step - loss: 0.9106 - accuracy: 0.7348\n",
      "Epoch 95/200\n",
      "1395/1395 [==============================] - 0s 259us/step - loss: 0.9038 - accuracy: 0.7398\n",
      "Epoch 96/200\n",
      "1395/1395 [==============================] - 0s 237us/step - loss: 0.9033 - accuracy: 0.7427\n",
      "Epoch 97/200\n",
      "1395/1395 [==============================] - 0s 243us/step - loss: 0.9028 - accuracy: 0.7376\n",
      "Epoch 98/200\n",
      "1395/1395 [==============================] - 0s 280us/step - loss: 0.9101 - accuracy: 0.7405\n",
      "Epoch 99/200\n",
      "1395/1395 [==============================] - 0s 239us/step - loss: 0.9105 - accuracy: 0.7376\n",
      "Epoch 100/200\n",
      "1395/1395 [==============================] - 0s 277us/step - loss: 0.8958 - accuracy: 0.7419\n",
      "Epoch 101/200\n",
      "1395/1395 [==============================] - 0s 249us/step - loss: 0.8936 - accuracy: 0.7441\n",
      "Epoch 102/200\n",
      "1395/1395 [==============================] - 0s 247us/step - loss: 0.9056 - accuracy: 0.7333\n",
      "Epoch 103/200\n",
      "1395/1395 [==============================] - 0s 256us/step - loss: 0.8908 - accuracy: 0.7412\n",
      "Epoch 104/200\n",
      "1395/1395 [==============================] - 0s 278us/step - loss: 0.8911 - accuracy: 0.7391\n",
      "Epoch 105/200\n",
      "1395/1395 [==============================] - 0s 262us/step - loss: 0.8969 - accuracy: 0.7384\n",
      "Epoch 106/200\n",
      "1395/1395 [==============================] - 0s 302us/step - loss: 0.8825 - accuracy: 0.7419\n",
      "Epoch 107/200\n",
      "1395/1395 [==============================] - 0s 250us/step - loss: 0.8806 - accuracy: 0.7333\n",
      "Epoch 108/200\n",
      "1395/1395 [==============================] - 0s 256us/step - loss: 0.8810 - accuracy: 0.7470\n",
      "Epoch 109/200\n",
      "1395/1395 [==============================] - 0s 279us/step - loss: 0.8902 - accuracy: 0.7384\n",
      "Epoch 110/200\n",
      "1395/1395 [==============================] - 0s 256us/step - loss: 0.8772 - accuracy: 0.7455\n",
      "Epoch 111/200\n",
      "1395/1395 [==============================] - 0s 250us/step - loss: 0.8754 - accuracy: 0.7441\n",
      "Epoch 112/200\n",
      "1395/1395 [==============================] - 0s 255us/step - loss: 0.8816 - accuracy: 0.7405\n",
      "Epoch 113/200\n",
      "1395/1395 [==============================] - 0s 255us/step - loss: 0.8846 - accuracy: 0.7441\n",
      "Epoch 114/200\n",
      "1395/1395 [==============================] - 0s 258us/step - loss: 0.8692 - accuracy: 0.7448\n",
      "Epoch 115/200\n",
      "1395/1395 [==============================] - 0s 241us/step - loss: 0.8792 - accuracy: 0.7448\n",
      "Epoch 116/200\n",
      "1395/1395 [==============================] - 0s 260us/step - loss: 0.8735 - accuracy: 0.7419\n",
      "Epoch 117/200\n",
      "1395/1395 [==============================] - 0s 278us/step - loss: 0.8704 - accuracy: 0.7484\n",
      "Epoch 118/200\n",
      "1395/1395 [==============================] - 0s 242us/step - loss: 0.8651 - accuracy: 0.7448\n",
      "Epoch 119/200\n",
      "1395/1395 [==============================] - 0s 237us/step - loss: 0.8584 - accuracy: 0.7419\n",
      "Epoch 120/200\n",
      "1395/1395 [==============================] - 0s 244us/step - loss: 0.8916 - accuracy: 0.7441\n",
      "Epoch 121/200\n",
      "1395/1395 [==============================] - 0s 253us/step - loss: 0.8671 - accuracy: 0.7441\n",
      "Epoch 122/200\n",
      "1395/1395 [==============================] - 0s 260us/step - loss: 0.8581 - accuracy: 0.7484\n",
      "Epoch 123/200\n",
      "1395/1395 [==============================] - 0s 253us/step - loss: 0.8650 - accuracy: 0.7427\n",
      "Epoch 124/200\n",
      "1395/1395 [==============================] - 0s 255us/step - loss: 0.8640 - accuracy: 0.7427\n",
      "Epoch 125/200\n",
      "1395/1395 [==============================] - 0s 247us/step - loss: 0.8623 - accuracy: 0.7491\n",
      "Epoch 126/200\n",
      "1395/1395 [==============================] - 0s 265us/step - loss: 0.8493 - accuracy: 0.7462\n",
      "Epoch 127/200\n",
      "1395/1395 [==============================] - 0s 245us/step - loss: 0.8540 - accuracy: 0.7505\n",
      "Epoch 128/200\n",
      "1395/1395 [==============================] - 0s 263us/step - loss: 0.8504 - accuracy: 0.7462\n",
      "Epoch 129/200\n",
      "1395/1395 [==============================] - 0s 253us/step - loss: 0.8526 - accuracy: 0.7477\n",
      "Epoch 130/200\n",
      "1395/1395 [==============================] - 0s 258us/step - loss: 0.8630 - accuracy: 0.7448\n",
      "Epoch 131/200\n",
      "1395/1395 [==============================] - 0s 269us/step - loss: 0.8479 - accuracy: 0.7462\n",
      "Epoch 132/200\n",
      "1395/1395 [==============================] - 0s 260us/step - loss: 0.8449 - accuracy: 0.7484\n",
      "Epoch 133/200\n",
      "1395/1395 [==============================] - 0s 267us/step - loss: 0.8575 - accuracy: 0.7427\n",
      "Epoch 134/200\n",
      "1395/1395 [==============================] - 0s 285us/step - loss: 0.8497 - accuracy: 0.7434\n",
      "Epoch 135/200\n",
      "1395/1395 [==============================] - 0s 282us/step - loss: 0.8432 - accuracy: 0.7441\n",
      "Epoch 136/200\n",
      "1395/1395 [==============================] - 0s 275us/step - loss: 0.8389 - accuracy: 0.7462\n",
      "Epoch 137/200\n",
      "1395/1395 [==============================] - 0s 276us/step - loss: 0.8394 - accuracy: 0.7419\n",
      "Epoch 138/200\n",
      "1395/1395 [==============================] - 0s 265us/step - loss: 0.8352 - accuracy: 0.7462\n",
      "Epoch 139/200\n",
      "1395/1395 [==============================] - 0s 261us/step - loss: 0.8338 - accuracy: 0.7455\n",
      "Epoch 140/200\n",
      "1395/1395 [==============================] - 0s 241us/step - loss: 0.8585 - accuracy: 0.7398\n",
      "Epoch 141/200\n",
      "1395/1395 [==============================] - 0s 265us/step - loss: 0.8472 - accuracy: 0.7427\n",
      "Epoch 142/200\n",
      "1395/1395 [==============================] - 0s 264us/step - loss: 0.8371 - accuracy: 0.7491\n",
      "Epoch 143/200\n",
      "1395/1395 [==============================] - 0s 270us/step - loss: 0.8368 - accuracy: 0.7470\n",
      "Epoch 144/200\n",
      "1395/1395 [==============================] - 0s 238us/step - loss: 0.8320 - accuracy: 0.7477\n",
      "Epoch 145/200\n",
      "1395/1395 [==============================] - 0s 288us/step - loss: 0.8313 - accuracy: 0.7462\n",
      "Epoch 146/200\n",
      "1395/1395 [==============================] - 0s 258us/step - loss: 0.8311 - accuracy: 0.7462\n",
      "Epoch 147/200\n",
      "1395/1395 [==============================] - 0s 269us/step - loss: 0.8286 - accuracy: 0.7470\n",
      "Epoch 148/200\n",
      "1395/1395 [==============================] - 0s 253us/step - loss: 0.8326 - accuracy: 0.7462\n",
      "Epoch 149/200\n",
      "1395/1395 [==============================] - 0s 286us/step - loss: 0.8325 - accuracy: 0.7470\n",
      "Epoch 150/200\n",
      "1395/1395 [==============================] - 0s 283us/step - loss: 0.8257 - accuracy: 0.7462\n",
      "Epoch 151/200\n",
      "1395/1395 [==============================] - 0s 273us/step - loss: 0.8315 - accuracy: 0.7441\n",
      "Epoch 152/200\n",
      "1395/1395 [==============================] - 0s 273us/step - loss: 0.8253 - accuracy: 0.7441\n",
      "Epoch 153/200\n",
      "1395/1395 [==============================] - 0s 287us/step - loss: 0.8455 - accuracy: 0.7405\n",
      "Epoch 154/200\n",
      "1395/1395 [==============================] - 0s 256us/step - loss: 0.8437 - accuracy: 0.7462\n",
      "Epoch 155/200\n",
      "1395/1395 [==============================] - 0s 274us/step - loss: 0.8306 - accuracy: 0.7455\n",
      "Epoch 156/200\n",
      "1395/1395 [==============================] - 0s 261us/step - loss: 0.8522 - accuracy: 0.7369\n",
      "Epoch 157/200\n",
      "1395/1395 [==============================] - 0s 304us/step - loss: 0.8348 - accuracy: 0.7491\n",
      "Epoch 158/200\n",
      "1395/1395 [==============================] - 0s 279us/step - loss: 0.8314 - accuracy: 0.7462\n",
      "Epoch 159/200\n",
      "1395/1395 [==============================] - 0s 250us/step - loss: 0.8211 - accuracy: 0.7477\n",
      "Epoch 160/200\n",
      "1395/1395 [==============================] - 0s 246us/step - loss: 0.8224 - accuracy: 0.7498\n",
      "Epoch 161/200\n",
      "1395/1395 [==============================] - 0s 270us/step - loss: 0.8229 - accuracy: 0.7441\n",
      "Epoch 162/200\n",
      "1395/1395 [==============================] - 0s 294us/step - loss: 0.8193 - accuracy: 0.7491\n",
      "Epoch 163/200\n",
      "1395/1395 [==============================] - 0s 259us/step - loss: 0.8187 - accuracy: 0.7477\n",
      "Epoch 164/200\n",
      "1395/1395 [==============================] - 0s 254us/step - loss: 0.8263 - accuracy: 0.7462\n",
      "Epoch 165/200\n",
      "1395/1395 [==============================] - 0s 267us/step - loss: 0.8146 - accuracy: 0.7470\n",
      "Epoch 166/200\n",
      "1395/1395 [==============================] - 0s 266us/step - loss: 0.8142 - accuracy: 0.7455\n",
      "Epoch 167/200\n",
      "1395/1395 [==============================] - 0s 282us/step - loss: 0.8161 - accuracy: 0.7470\n",
      "Epoch 168/200\n",
      "1395/1395 [==============================] - 0s 266us/step - loss: 0.8138 - accuracy: 0.7455\n",
      "Epoch 169/200\n",
      "1395/1395 [==============================] - 0s 265us/step - loss: 0.8204 - accuracy: 0.7455\n",
      "Epoch 170/200\n",
      "1395/1395 [==============================] - 0s 255us/step - loss: 0.8521 - accuracy: 0.7405\n",
      "Epoch 171/200\n",
      "1395/1395 [==============================] - 0s 285us/step - loss: 0.8504 - accuracy: 0.7434\n",
      "Epoch 172/200\n",
      "1395/1395 [==============================] - 0s 280us/step - loss: 0.8690 - accuracy: 0.7405\n",
      "Epoch 173/200\n",
      "1395/1395 [==============================] - 0s 257us/step - loss: 1.0114 - accuracy: 0.7290\n",
      "Epoch 174/200\n",
      "1395/1395 [==============================] - 0s 274us/step - loss: 1.0824 - accuracy: 0.7111\n",
      "Epoch 175/200\n",
      "1395/1395 [==============================] - 0s 265us/step - loss: 1.1049 - accuracy: 0.7176\n",
      "Epoch 176/200\n",
      "1395/1395 [==============================] - 0s 282us/step - loss: 1.1058 - accuracy: 0.7111\n",
      "Epoch 177/200\n",
      "1395/1395 [==============================] - 0s 271us/step - loss: 1.0777 - accuracy: 0.7161\n",
      "Epoch 178/200\n",
      "1395/1395 [==============================] - 0s 255us/step - loss: 1.0638 - accuracy: 0.7190\n",
      "Epoch 179/200\n",
      "1395/1395 [==============================] - 0s 268us/step - loss: 1.0632 - accuracy: 0.7168\n",
      "Epoch 180/200\n",
      "1395/1395 [==============================] - 0s 264us/step - loss: 1.0545 - accuracy: 0.7219\n",
      "Epoch 181/200\n",
      "1395/1395 [==============================] - 0s 252us/step - loss: 1.0558 - accuracy: 0.7133\n",
      "Epoch 182/200\n",
      "1395/1395 [==============================] - 0s 270us/step - loss: 1.0346 - accuracy: 0.7176\n",
      "Epoch 183/200\n",
      "1395/1395 [==============================] - 0s 259us/step - loss: 1.0198 - accuracy: 0.7204\n",
      "Epoch 184/200\n",
      "1395/1395 [==============================] - 0s 276us/step - loss: 1.0146 - accuracy: 0.7219\n",
      "Epoch 185/200\n",
      "1395/1395 [==============================] - 0s 272us/step - loss: 1.0030 - accuracy: 0.7219\n",
      "Epoch 186/200\n",
      "1395/1395 [==============================] - 0s 253us/step - loss: 0.9953 - accuracy: 0.7305\n",
      "Epoch 187/200\n",
      "1395/1395 [==============================] - 0s 264us/step - loss: 0.9914 - accuracy: 0.7269\n",
      "Epoch 188/200\n",
      "1395/1395 [==============================] - 0s 272us/step - loss: 0.9867 - accuracy: 0.7305\n",
      "Epoch 189/200\n",
      "1395/1395 [==============================] - 0s 270us/step - loss: 0.9835 - accuracy: 0.7326\n",
      "Epoch 190/200\n",
      "1395/1395 [==============================] - 0s 280us/step - loss: 0.9804 - accuracy: 0.7312\n",
      "Epoch 191/200\n",
      "1395/1395 [==============================] - 0s 258us/step - loss: 0.9759 - accuracy: 0.7297\n",
      "Epoch 192/200\n",
      "1395/1395 [==============================] - 0s 281us/step - loss: 0.9748 - accuracy: 0.7297\n",
      "Epoch 193/200\n",
      "1395/1395 [==============================] - 0s 269us/step - loss: 0.9762 - accuracy: 0.7297\n",
      "Epoch 194/200\n",
      "1395/1395 [==============================] - 0s 249us/step - loss: 0.9732 - accuracy: 0.7283\n",
      "Epoch 195/200\n",
      "1395/1395 [==============================] - 0s 271us/step - loss: 0.9750 - accuracy: 0.7319\n",
      "Epoch 196/200\n",
      "1395/1395 [==============================] - 0s 273us/step - loss: 0.9826 - accuracy: 0.7312\n",
      "Epoch 197/200\n",
      "1395/1395 [==============================] - 0s 255us/step - loss: 0.9744 - accuracy: 0.7297\n",
      "Epoch 198/200\n",
      "1395/1395 [==============================] - 0s 282us/step - loss: 0.9748 - accuracy: 0.7333\n",
      "Epoch 199/200\n",
      "1395/1395 [==============================] - 0s 259us/step - loss: 0.9693 - accuracy: 0.7276\n",
      "Epoch 200/200\n",
      "1395/1395 [==============================] - 0s 243us/step - loss: 0.9657 - accuracy: 0.7283\n"
     ]
    },
    {
     "data": {
      "text/plain": [
       "<keras.callbacks.callbacks.History at 0x1363ff5e0>"
      ]
     },
     "execution_count": 14,
     "metadata": {},
     "output_type": "execute_result"
    }
   ],
   "source": [
    "model.fit(X_train, y_train)"
   ]
  },
  {
   "cell_type": "code",
   "execution_count": 15,
   "metadata": {},
   "outputs": [
    {
     "name": "stdout",
     "output_type": "stream",
     "text": [
      "599/599 [==============================] - 0s 206us/step\n"
     ]
    }
   ],
   "source": [
    "y_pred = model.predict(X_test)"
   ]
  },
  {
   "cell_type": "code",
   "execution_count": 16,
   "metadata": {},
   "outputs": [],
   "source": [
    "y_test_ = np.argmax(y_test, axis = 1)"
   ]
  },
  {
   "cell_type": "code",
   "execution_count": 17,
   "metadata": {},
   "outputs": [
    {
     "name": "stdout",
     "output_type": "stream",
     "text": [
      "0.7378964941569283\n"
     ]
    }
   ],
   "source": [
    "print(accuracy_score(y_pred, y_test_))"
   ]
  },
  {
   "cell_type": "markdown",
   "metadata": {},
   "source": [
    "## 2. Stacked Vanilla RNN\n",
    "- RNN layers can be stacked to form a deeper network\n",
    "\n",
    "<img src=\"https://lh6.googleusercontent.com/rC1DSgjlmobtRxMPFi14hkMdDqSkEkuOX7EW_QrLFSymjasIM95Za2Wf-VwSC1Tq1sjJlOPLJ92q7PTKJh2hjBoXQawM6MQC27east67GFDklTalljlt0cFLZnPMdhp8erzO\" style=\"width: 500px\"/>"
   ]
  },
  {
   "cell_type": "code",
   "execution_count": null,
   "metadata": {},
   "outputs": [],
   "source": []
  },
  {
   "cell_type": "code",
   "execution_count": 21,
   "metadata": {},
   "outputs": [],
   "source": [
    "def stacked_vanilla_rnn():\n",
    "    model = Sequential()\n",
    "    model.add(SimpleRNN(50, input_shape = (49,1), return_sequences = True))   # return_sequences parameter has to be set True to stack\n",
    "    model.add(SimpleRNN(50, return_sequences = False))\n",
    "    model.add(Dense(46))\n",
    "    model.add(Activation('softmax'))\n",
    "    \n",
    "    adam = optimizers.Adam(lr = 0.001)\n",
    "    model.compile(loss = 'categorical_crossentropy', optimizer = adam, metrics = ['accuracy'])\n",
    "    \n",
    "    return model"
   ]
  },
  {
   "cell_type": "code",
   "execution_count": 22,
   "metadata": {},
   "outputs": [],
   "source": [
    "model = KerasClassifier(build_fn = stacked_vanilla_rnn, epochs = 200, batch_size = 50, verbose = 1)"
   ]
  },
  {
   "cell_type": "code",
   "execution_count": 23,
   "metadata": {},
   "outputs": [
    {
     "name": "stdout",
     "output_type": "stream",
     "text": [
      "Epoch 1/200\n",
      "1395/1395 [==============================] - 1s 841us/step - loss: 2.8363 - accuracy: 0.4717\n",
      "Epoch 2/200\n",
      "1395/1395 [==============================] - 1s 540us/step - loss: 1.2900 - accuracy: 0.7147\n",
      "Epoch 3/200\n",
      "1395/1395 [==============================] - 1s 537us/step - loss: 1.1703 - accuracy: 0.7147\n",
      "Epoch 4/200\n",
      "1395/1395 [==============================] - 1s 541us/step - loss: 1.1427 - accuracy: 0.7147\n",
      "Epoch 5/200\n",
      "1395/1395 [==============================] - 1s 535us/step - loss: 1.1189 - accuracy: 0.7147\n",
      "Epoch 6/200\n",
      "1395/1395 [==============================] - 1s 505us/step - loss: 1.0972 - accuracy: 0.7147\n",
      "Epoch 7/200\n",
      "1395/1395 [==============================] - 1s 549us/step - loss: 1.0873 - accuracy: 0.7147\n",
      "Epoch 8/200\n",
      "1395/1395 [==============================] - 1s 525us/step - loss: 1.0821 - accuracy: 0.7147\n",
      "Epoch 9/200\n",
      "1395/1395 [==============================] - 1s 539us/step - loss: 1.0744 - accuracy: 0.7147\n",
      "Epoch 10/200\n",
      "1395/1395 [==============================] - 1s 530us/step - loss: 1.0685 - accuracy: 0.7147\n",
      "Epoch 11/200\n",
      "1395/1395 [==============================] - 1s 531us/step - loss: 1.0643 - accuracy: 0.7133\n",
      "Epoch 12/200\n",
      "1395/1395 [==============================] - 1s 539us/step - loss: 1.0623 - accuracy: 0.7154\n",
      "Epoch 13/200\n",
      "1395/1395 [==============================] - 1s 629us/step - loss: 1.0544 - accuracy: 0.7140\n",
      "Epoch 14/200\n",
      "1395/1395 [==============================] - 1s 655us/step - loss: 1.0535 - accuracy: 0.7140\n",
      "Epoch 15/200\n",
      "1395/1395 [==============================] - 1s 527us/step - loss: 1.0520 - accuracy: 0.7154\n",
      "Epoch 16/200\n",
      "1395/1395 [==============================] - 1s 501us/step - loss: 1.0468 - accuracy: 0.7140\n",
      "Epoch 17/200\n",
      "1395/1395 [==============================] - 1s 572us/step - loss: 1.0419 - accuracy: 0.7161\n",
      "Epoch 18/200\n",
      "1395/1395 [==============================] - 1s 593us/step - loss: 1.0411 - accuracy: 0.7133\n",
      "Epoch 19/200\n",
      "1395/1395 [==============================] - 1s 577us/step - loss: 1.0377 - accuracy: 0.7154\n",
      "Epoch 20/200\n",
      "1395/1395 [==============================] - 1s 540us/step - loss: 1.0370 - accuracy: 0.7147\n",
      "Epoch 21/200\n",
      "1395/1395 [==============================] - 1s 581us/step - loss: 1.0355 - accuracy: 0.7168\n",
      "Epoch 22/200\n",
      "1395/1395 [==============================] - 1s 815us/step - loss: 1.0290 - accuracy: 0.7154\n",
      "Epoch 23/200\n",
      "1395/1395 [==============================] - 1s 934us/step - loss: 1.0271 - accuracy: 0.7118\n",
      "Epoch 24/200\n",
      "1395/1395 [==============================] - 1s 604us/step - loss: 1.0229 - accuracy: 0.7118\n",
      "Epoch 25/200\n",
      "1395/1395 [==============================] - 1s 611us/step - loss: 1.0252 - accuracy: 0.7176\n",
      "Epoch 26/200\n",
      "1395/1395 [==============================] - 1s 627us/step - loss: 1.0194 - accuracy: 0.7140\n",
      "Epoch 27/200\n",
      "1395/1395 [==============================] - 1s 524us/step - loss: 1.0147 - accuracy: 0.7147\n",
      "Epoch 28/200\n",
      "1395/1395 [==============================] - 1s 582us/step - loss: 1.0105 - accuracy: 0.7140\n",
      "Epoch 29/200\n",
      "1395/1395 [==============================] - 1s 584us/step - loss: 1.0078 - accuracy: 0.7161\n",
      "Epoch 30/200\n",
      "1395/1395 [==============================] - 1s 593us/step - loss: 1.0061 - accuracy: 0.7082\n",
      "Epoch 31/200\n",
      "1395/1395 [==============================] - 1s 612us/step - loss: 1.0018 - accuracy: 0.7140\n",
      "Epoch 32/200\n",
      "1395/1395 [==============================] - 1s 555us/step - loss: 0.9938 - accuracy: 0.7147\n",
      "Epoch 33/200\n",
      "1395/1395 [==============================] - 1s 607us/step - loss: 0.9914 - accuracy: 0.7168\n",
      "Epoch 34/200\n",
      "1395/1395 [==============================] - 1s 609us/step - loss: 0.9934 - accuracy: 0.7104\n",
      "Epoch 35/200\n",
      "1395/1395 [==============================] - 1s 565us/step - loss: 0.9865 - accuracy: 0.7125\n",
      "Epoch 36/200\n",
      "1395/1395 [==============================] - 1s 627us/step - loss: 0.9813 - accuracy: 0.7168\n",
      "Epoch 37/200\n",
      "1395/1395 [==============================] - 1s 612us/step - loss: 0.9858 - accuracy: 0.7075\n",
      "Epoch 38/200\n",
      "1395/1395 [==============================] - 1s 592us/step - loss: 0.9770 - accuracy: 0.7118\n",
      "Epoch 39/200\n",
      "1395/1395 [==============================] - 1s 620us/step - loss: 0.9676 - accuracy: 0.7168\n",
      "Epoch 40/200\n",
      "1395/1395 [==============================] - 1s 675us/step - loss: 0.9579 - accuracy: 0.7197\n",
      "Epoch 41/200\n",
      "1395/1395 [==============================] - 1s 804us/step - loss: 0.9562 - accuracy: 0.7190\n",
      "Epoch 42/200\n",
      "1395/1395 [==============================] - 1s 666us/step - loss: 0.9602 - accuracy: 0.7226\n",
      "Epoch 43/200\n",
      "1395/1395 [==============================] - 1s 631us/step - loss: 0.9540 - accuracy: 0.7183\n",
      "Epoch 44/200\n",
      "1395/1395 [==============================] - 1s 619us/step - loss: 0.9397 - accuracy: 0.7219\n",
      "Epoch 45/200\n",
      "1395/1395 [==============================] - 1s 639us/step - loss: 0.9379 - accuracy: 0.7197\n",
      "Epoch 46/200\n",
      "1395/1395 [==============================] - ETA: 0s - loss: 0.9254 - accuracy: 0.72 - 1s 603us/step - loss: 0.9279 - accuracy: 0.7211\n",
      "Epoch 47/200\n",
      "1395/1395 [==============================] - 1s 664us/step - loss: 0.8995 - accuracy: 0.7333\n",
      "Epoch 48/200\n",
      "1395/1395 [==============================] - 1s 658us/step - loss: 0.8939 - accuracy: 0.7384\n",
      "Epoch 49/200\n",
      "1395/1395 [==============================] - 1s 623us/step - loss: 0.8871 - accuracy: 0.7290\n",
      "Epoch 50/200\n",
      "1395/1395 [==============================] - 1s 600us/step - loss: 0.8761 - accuracy: 0.7384\n",
      "Epoch 51/200\n",
      "1395/1395 [==============================] - 1s 640us/step - loss: 0.8647 - accuracy: 0.7376\n",
      "Epoch 52/200\n",
      "1395/1395 [==============================] - 1s 635us/step - loss: 0.8638 - accuracy: 0.7333\n",
      "Epoch 53/200\n",
      "1395/1395 [==============================] - 1s 632us/step - loss: 0.8536 - accuracy: 0.7391\n",
      "Epoch 54/200\n",
      "1395/1395 [==============================] - 1s 573us/step - loss: 0.8445 - accuracy: 0.7405\n",
      "Epoch 55/200\n",
      "1395/1395 [==============================] - 1s 652us/step - loss: 0.8344 - accuracy: 0.7419\n",
      "Epoch 56/200\n",
      "1395/1395 [==============================] - 1s 643us/step - loss: 0.8249 - accuracy: 0.7484\n",
      "Epoch 57/200\n",
      "1395/1395 [==============================] - 1s 687us/step - loss: 0.8093 - accuracy: 0.7498\n",
      "Epoch 58/200\n",
      "1395/1395 [==============================] - 1s 584us/step - loss: 0.8147 - accuracy: 0.7441\n",
      "Epoch 59/200\n",
      "1395/1395 [==============================] - 1s 622us/step - loss: 0.8170 - accuracy: 0.7491\n",
      "Epoch 60/200\n",
      "1395/1395 [==============================] - 1s 610us/step - loss: 0.8074 - accuracy: 0.7498\n",
      "Epoch 61/200\n",
      "1395/1395 [==============================] - 1s 596us/step - loss: 0.8178 - accuracy: 0.7441\n",
      "Epoch 62/200\n",
      "1395/1395 [==============================] - 1s 645us/step - loss: 0.7970 - accuracy: 0.7556\n",
      "Epoch 63/200\n",
      "1395/1395 [==============================] - 1s 687us/step - loss: 0.7899 - accuracy: 0.7477\n",
      "Epoch 64/200\n",
      "1395/1395 [==============================] - 1s 672us/step - loss: 0.7797 - accuracy: 0.7498\n",
      "Epoch 65/200\n",
      "1395/1395 [==============================] - 1s 622us/step - loss: 0.7829 - accuracy: 0.7527\n",
      "Epoch 66/200\n",
      "1395/1395 [==============================] - 1s 581us/step - loss: 0.7700 - accuracy: 0.7548\n",
      "Epoch 67/200\n",
      "1395/1395 [==============================] - 1s 637us/step - loss: 0.7656 - accuracy: 0.7541\n",
      "Epoch 68/200\n",
      "1395/1395 [==============================] - 1s 667us/step - loss: 0.7624 - accuracy: 0.7541\n",
      "Epoch 69/200\n",
      "1395/1395 [==============================] - 1s 631us/step - loss: 0.7561 - accuracy: 0.7556\n",
      "Epoch 70/200\n",
      "1395/1395 [==============================] - 1s 720us/step - loss: 0.7495 - accuracy: 0.7541\n",
      "Epoch 71/200\n",
      "1395/1395 [==============================] - 1s 612us/step - loss: 0.7456 - accuracy: 0.7627\n",
      "Epoch 72/200\n",
      "1395/1395 [==============================] - 1s 581us/step - loss: 0.7390 - accuracy: 0.7599\n",
      "Epoch 73/200\n",
      "1395/1395 [==============================] - 1s 642us/step - loss: 0.7417 - accuracy: 0.7548\n",
      "Epoch 74/200\n",
      "1395/1395 [==============================] - 1s 629us/step - loss: 0.7386 - accuracy: 0.7534\n",
      "Epoch 75/200\n",
      "1395/1395 [==============================] - 1s 662us/step - loss: 0.7259 - accuracy: 0.7577\n",
      "Epoch 76/200\n",
      "1395/1395 [==============================] - 1s 625us/step - loss: 0.7221 - accuracy: 0.7627\n",
      "Epoch 77/200\n",
      "1395/1395 [==============================] - 1s 599us/step - loss: 0.7159 - accuracy: 0.7606\n",
      "Epoch 78/200\n",
      "1395/1395 [==============================] - 1s 649us/step - loss: 0.7138 - accuracy: 0.7620\n",
      "Epoch 79/200\n",
      "1395/1395 [==============================] - 1s 676us/step - loss: 0.7119 - accuracy: 0.7642\n",
      "Epoch 80/200\n",
      "1395/1395 [==============================] - 1s 662us/step - loss: 0.7029 - accuracy: 0.7642\n",
      "Epoch 81/200\n",
      "1395/1395 [==============================] - 1s 626us/step - loss: 0.7067 - accuracy: 0.7634\n",
      "Epoch 82/200\n",
      "1395/1395 [==============================] - 1s 633us/step - loss: 0.7030 - accuracy: 0.7634\n",
      "Epoch 83/200\n",
      "1395/1395 [==============================] - 1s 603us/step - loss: 0.6914 - accuracy: 0.7692\n",
      "Epoch 84/200\n",
      "1395/1395 [==============================] - 1s 625us/step - loss: 0.6919 - accuracy: 0.7663\n",
      "Epoch 85/200\n",
      "1395/1395 [==============================] - 1s 671us/step - loss: 0.6872 - accuracy: 0.7677\n",
      "Epoch 86/200\n",
      "1395/1395 [==============================] - 1s 616us/step - loss: 0.6796 - accuracy: 0.7713\n",
      "Epoch 87/200\n",
      "1395/1395 [==============================] - 1s 649us/step - loss: 0.6774 - accuracy: 0.7742\n",
      "Epoch 88/200\n",
      "1395/1395 [==============================] - 1s 684us/step - loss: 0.6866 - accuracy: 0.7627\n",
      "Epoch 89/200\n",
      "1395/1395 [==============================] - 1s 628us/step - loss: 0.6820 - accuracy: 0.7663\n",
      "Epoch 90/200\n",
      "1395/1395 [==============================] - 1s 740us/step - loss: 0.6664 - accuracy: 0.7792\n",
      "Epoch 91/200\n",
      "1395/1395 [==============================] - 1s 696us/step - loss: 0.6596 - accuracy: 0.7792\n",
      "Epoch 92/200\n",
      "1395/1395 [==============================] - 1s 639us/step - loss: 0.6724 - accuracy: 0.7735\n",
      "Epoch 93/200\n",
      "1395/1395 [==============================] - 1s 596us/step - loss: 0.6677 - accuracy: 0.7692\n",
      "Epoch 94/200\n",
      "1395/1395 [==============================] - 1s 600us/step - loss: 0.7002 - accuracy: 0.7642\n",
      "Epoch 95/200\n",
      "1395/1395 [==============================] - 1s 619us/step - loss: 0.6669 - accuracy: 0.7713\n",
      "Epoch 96/200\n",
      "1395/1395 [==============================] - 1s 623us/step - loss: 0.6440 - accuracy: 0.7849\n",
      "Epoch 97/200\n",
      "1395/1395 [==============================] - 1s 631us/step - loss: 0.6413 - accuracy: 0.7814\n",
      "Epoch 98/200\n",
      "1395/1395 [==============================] - 1s 655us/step - loss: 0.6321 - accuracy: 0.7871\n",
      "Epoch 99/200\n",
      "1395/1395 [==============================] - 1s 657us/step - loss: 0.6318 - accuracy: 0.7864\n",
      "Epoch 100/200\n",
      "1395/1395 [==============================] - 1s 796us/step - loss: 0.6311 - accuracy: 0.7806\n",
      "Epoch 101/200\n",
      "1395/1395 [==============================] - 1s 931us/step - loss: 0.6215 - accuracy: 0.7928\n",
      "Epoch 102/200\n",
      "1395/1395 [==============================] - 1s 767us/step - loss: 0.6271 - accuracy: 0.7842\n",
      "Epoch 103/200\n",
      "1395/1395 [==============================] - 1s 646us/step - loss: 0.6272 - accuracy: 0.7857\n",
      "Epoch 104/200\n",
      "1395/1395 [==============================] - 1s 614us/step - loss: 0.6232 - accuracy: 0.7849\n",
      "Epoch 105/200\n",
      "1395/1395 [==============================] - 1s 627us/step - loss: 0.6190 - accuracy: 0.7871\n",
      "Epoch 106/200\n",
      "1395/1395 [==============================] - 1s 663us/step - loss: 0.6164 - accuracy: 0.7943\n",
      "Epoch 107/200\n",
      "1395/1395 [==============================] - 1s 639us/step - loss: 0.6084 - accuracy: 0.7885\n",
      "Epoch 108/200\n",
      "1395/1395 [==============================] - 1s 668us/step - loss: 0.6048 - accuracy: 0.7935\n",
      "Epoch 109/200\n",
      "1395/1395 [==============================] - 1s 627us/step - loss: 0.5921 - accuracy: 0.7907\n",
      "Epoch 110/200\n",
      "1395/1395 [==============================] - 1s 670us/step - loss: 0.6011 - accuracy: 0.7928\n",
      "Epoch 111/200\n",
      "1395/1395 [==============================] - 1s 664us/step - loss: 0.5910 - accuracy: 0.8007\n",
      "Epoch 112/200\n",
      "1395/1395 [==============================] - 1s 633us/step - loss: 0.5937 - accuracy: 0.7928\n",
      "Epoch 113/200\n",
      "1395/1395 [==============================] - 1s 691us/step - loss: 0.6533 - accuracy: 0.7713\n",
      "Epoch 114/200\n",
      "1395/1395 [==============================] - 1s 624us/step - loss: 0.6124 - accuracy: 0.7835\n",
      "Epoch 115/200\n",
      "1395/1395 [==============================] - 1s 611us/step - loss: 0.6032 - accuracy: 0.7885\n",
      "Epoch 116/200\n",
      "1395/1395 [==============================] - 1s 621us/step - loss: 0.6164 - accuracy: 0.7828\n",
      "Epoch 117/200\n",
      "1395/1395 [==============================] - 1s 668us/step - loss: 0.6132 - accuracy: 0.7835\n",
      "Epoch 118/200\n",
      "1395/1395 [==============================] - 1s 639us/step - loss: 0.6095 - accuracy: 0.7785\n",
      "Epoch 119/200\n",
      "1395/1395 [==============================] - 1s 634us/step - loss: 0.5870 - accuracy: 0.7914\n",
      "Epoch 120/200\n",
      "1395/1395 [==============================] - 1s 615us/step - loss: 0.5870 - accuracy: 0.7950\n",
      "Epoch 121/200\n",
      "1395/1395 [==============================] - 1s 621us/step - loss: 0.5770 - accuracy: 0.7986\n",
      "Epoch 122/200\n",
      "1395/1395 [==============================] - 1s 649us/step - loss: 0.5655 - accuracy: 0.7986\n",
      "Epoch 123/200\n",
      "1395/1395 [==============================] - 1s 642us/step - loss: 0.5583 - accuracy: 0.8036\n",
      "Epoch 124/200\n",
      "1395/1395 [==============================] - 1s 665us/step - loss: 0.5559 - accuracy: 0.8000\n",
      "Epoch 125/200\n",
      "1395/1395 [==============================] - 1s 660us/step - loss: 0.5583 - accuracy: 0.8057\n",
      "Epoch 126/200\n",
      "1395/1395 [==============================] - 1s 642us/step - loss: 0.5521 - accuracy: 0.8036\n",
      "Epoch 127/200\n",
      "1395/1395 [==============================] - 1s 608us/step - loss: 0.5600 - accuracy: 0.7993\n",
      "Epoch 128/200\n",
      "1395/1395 [==============================] - 1s 625us/step - loss: 0.5565 - accuracy: 0.7993\n",
      "Epoch 129/200\n",
      "1395/1395 [==============================] - 1s 650us/step - loss: 0.5434 - accuracy: 0.8072\n",
      "Epoch 130/200\n",
      "1395/1395 [==============================] - 1s 660us/step - loss: 0.5433 - accuracy: 0.8065\n",
      "Epoch 131/200\n",
      "1395/1395 [==============================] - 1s 626us/step - loss: 0.5510 - accuracy: 0.8014\n",
      "Epoch 132/200\n",
      "1395/1395 [==============================] - 1s 636us/step - loss: 0.5439 - accuracy: 0.8043\n",
      "Epoch 133/200\n",
      "1395/1395 [==============================] - 1s 646us/step - loss: 0.5294 - accuracy: 0.8151\n",
      "Epoch 134/200\n",
      "1395/1395 [==============================] - 1s 662us/step - loss: 0.5291 - accuracy: 0.8151\n",
      "Epoch 135/200\n",
      "1395/1395 [==============================] - 1s 803us/step - loss: 0.5163 - accuracy: 0.8158\n",
      "Epoch 136/200\n",
      "1395/1395 [==============================] - 1s 972us/step - loss: 0.5214 - accuracy: 0.8100\n",
      "Epoch 137/200\n",
      "1395/1395 [==============================] - 1s 878us/step - loss: 0.5302 - accuracy: 0.8158\n",
      "Epoch 138/200\n",
      "1395/1395 [==============================] - 1s 889us/step - loss: 0.5084 - accuracy: 0.8215\n",
      "Epoch 139/200\n",
      "1395/1395 [==============================] - 1s 693us/step - loss: 0.5486 - accuracy: 0.7993\n",
      "Epoch 140/200\n",
      "1395/1395 [==============================] - 1s 582us/step - loss: 0.6073 - accuracy: 0.7878\n",
      "Epoch 141/200\n",
      "1395/1395 [==============================] - 1s 551us/step - loss: 0.5479 - accuracy: 0.8036\n",
      "Epoch 142/200\n",
      "1395/1395 [==============================] - 1s 547us/step - loss: 0.5361 - accuracy: 0.8065\n",
      "Epoch 143/200\n",
      "1395/1395 [==============================] - 1s 596us/step - loss: 0.5520 - accuracy: 0.7892\n",
      "Epoch 144/200\n",
      "1395/1395 [==============================] - 1s 585us/step - loss: 0.5331 - accuracy: 0.8057\n",
      "Epoch 145/200\n",
      "1395/1395 [==============================] - 1s 608us/step - loss: 0.5053 - accuracy: 0.8100\n",
      "Epoch 146/200\n",
      "1395/1395 [==============================] - 1s 561us/step - loss: 0.4976 - accuracy: 0.8201\n",
      "Epoch 147/200\n",
      "1395/1395 [==============================] - 1s 585us/step - loss: 0.4890 - accuracy: 0.8215\n",
      "Epoch 148/200\n",
      "1395/1395 [==============================] - 1s 779us/step - loss: 0.4974 - accuracy: 0.8201\n",
      "Epoch 149/200\n",
      "1395/1395 [==============================] - 1s 725us/step - loss: 0.4906 - accuracy: 0.8179\n",
      "Epoch 150/200\n",
      "1395/1395 [==============================] - 1s 763us/step - loss: 0.4810 - accuracy: 0.8229\n",
      "Epoch 151/200\n",
      "1395/1395 [==============================] - 1s 870us/step - loss: 0.4740 - accuracy: 0.8358\n",
      "Epoch 152/200\n",
      "1395/1395 [==============================] - 1s 754us/step - loss: 0.4802 - accuracy: 0.8229\n",
      "Epoch 153/200\n",
      "1395/1395 [==============================] - 1s 1ms/step - loss: 0.4691 - accuracy: 0.8294\n",
      "Epoch 154/200\n",
      "1395/1395 [==============================] - 1s 591us/step - loss: 0.4640 - accuracy: 0.8337\n",
      "Epoch 155/200\n",
      "1395/1395 [==============================] - 1s 881us/step - loss: 0.4587 - accuracy: 0.8308\n",
      "Epoch 156/200\n",
      "1395/1395 [==============================] - 1s 595us/step - loss: 0.4567 - accuracy: 0.8315\n",
      "Epoch 157/200\n",
      "1395/1395 [==============================] - 1s 681us/step - loss: 0.4533 - accuracy: 0.8387\n",
      "Epoch 158/200\n",
      "1395/1395 [==============================] - 1s 871us/step - loss: 0.4739 - accuracy: 0.8244\n",
      "Epoch 159/200\n",
      "1395/1395 [==============================] - 1s 809us/step - loss: 0.4909 - accuracy: 0.8265\n",
      "Epoch 160/200\n",
      "1395/1395 [==============================] - 1s 650us/step - loss: 0.4905 - accuracy: 0.8237\n",
      "Epoch 161/200\n",
      "1395/1395 [==============================] - 1s 925us/step - loss: 0.4687 - accuracy: 0.8323\n",
      "Epoch 162/200\n",
      "1395/1395 [==============================] - 1s 922us/step - loss: 0.4502 - accuracy: 0.8387\n",
      "Epoch 163/200\n",
      "1395/1395 [==============================] - 1s 617us/step - loss: 0.4454 - accuracy: 0.8416\n",
      "Epoch 164/200\n",
      "1395/1395 [==============================] - 1s 590us/step - loss: 0.4374 - accuracy: 0.8487\n",
      "Epoch 165/200\n",
      "1395/1395 [==============================] - 1s 584us/step - loss: 0.4344 - accuracy: 0.8452\n",
      "Epoch 166/200\n",
      "1395/1395 [==============================] - 1s 630us/step - loss: 0.4327 - accuracy: 0.8423\n",
      "Epoch 167/200\n",
      "1395/1395 [==============================] - 1s 689us/step - loss: 0.4277 - accuracy: 0.8423\n",
      "Epoch 168/200\n",
      "1395/1395 [==============================] - 1s 630us/step - loss: 0.4277 - accuracy: 0.8495\n",
      "Epoch 169/200\n",
      "1395/1395 [==============================] - 1s 697us/step - loss: 0.4454 - accuracy: 0.8394\n",
      "Epoch 170/200\n",
      "1395/1395 [==============================] - 1s 652us/step - loss: 0.4306 - accuracy: 0.8452\n",
      "Epoch 171/200\n",
      "1395/1395 [==============================] - 1s 581us/step - loss: 0.4400 - accuracy: 0.8409\n",
      "Epoch 172/200\n",
      "1395/1395 [==============================] - 1s 664us/step - loss: 0.4172 - accuracy: 0.8487\n",
      "Epoch 173/200\n",
      "1395/1395 [==============================] - 1s 739us/step - loss: 0.4211 - accuracy: 0.8487\n",
      "Epoch 174/200\n",
      "1395/1395 [==============================] - 1s 658us/step - loss: 0.4071 - accuracy: 0.8545\n",
      "Epoch 175/200\n",
      "1395/1395 [==============================] - 1s 614us/step - loss: 0.4106 - accuracy: 0.8509\n",
      "Epoch 176/200\n",
      "1395/1395 [==============================] - 1s 674us/step - loss: 0.4139 - accuracy: 0.8552\n",
      "Epoch 177/200\n",
      "1395/1395 [==============================] - 1s 905us/step - loss: 0.4127 - accuracy: 0.8480\n",
      "Epoch 178/200\n",
      "1395/1395 [==============================] - 1s 827us/step - loss: 0.4091 - accuracy: 0.8509\n",
      "Epoch 179/200\n",
      "1395/1395 [==============================] - 1s 734us/step - loss: 0.4038 - accuracy: 0.8502\n",
      "Epoch 180/200\n",
      "1395/1395 [==============================] - 1s 732us/step - loss: 0.4066 - accuracy: 0.8509\n",
      "Epoch 181/200\n",
      "1395/1395 [==============================] - 1s 679us/step - loss: 0.4054 - accuracy: 0.8559\n",
      "Epoch 182/200\n",
      "1395/1395 [==============================] - 1s 628us/step - loss: 0.4017 - accuracy: 0.8530\n",
      "Epoch 183/200\n",
      "1395/1395 [==============================] - 1s 887us/step - loss: 0.3836 - accuracy: 0.8581\n",
      "Epoch 184/200\n",
      "1395/1395 [==============================] - 1s 603us/step - loss: 0.3879 - accuracy: 0.8602\n",
      "Epoch 185/200\n",
      "1395/1395 [==============================] - 1s 694us/step - loss: 0.3912 - accuracy: 0.8624\n",
      "Epoch 186/200\n",
      "1395/1395 [==============================] - 1s 623us/step - loss: 0.4238 - accuracy: 0.8466\n",
      "Epoch 187/200\n",
      "1395/1395 [==============================] - 1s 748us/step - loss: 0.4265 - accuracy: 0.8380\n",
      "Epoch 188/200\n",
      "1395/1395 [==============================] - 1s 601us/step - loss: 0.5086 - accuracy: 0.8272\n",
      "Epoch 189/200\n",
      "1395/1395 [==============================] - 1s 689us/step - loss: 0.7258 - accuracy: 0.7613\n",
      "Epoch 190/200\n",
      "1395/1395 [==============================] - 1s 1ms/step - loss: 0.6360 - accuracy: 0.7728\n",
      "Epoch 191/200\n",
      "1395/1395 [==============================] - 2s 1ms/step - loss: 0.5742 - accuracy: 0.7885\n",
      "Epoch 192/200\n",
      "1395/1395 [==============================] - 1s 766us/step - loss: 0.5690 - accuracy: 0.7900\n",
      "Epoch 193/200\n",
      "1395/1395 [==============================] - 1s 858us/step - loss: 0.5485 - accuracy: 0.7978\n",
      "Epoch 194/200\n",
      "1395/1395 [==============================] - 1s 851us/step - loss: 0.5482 - accuracy: 0.7950\n",
      "Epoch 195/200\n",
      "1395/1395 [==============================] - 1s 685us/step - loss: 0.5462 - accuracy: 0.7921\n",
      "Epoch 196/200\n",
      "1395/1395 [==============================] - 1s 595us/step - loss: 0.5164 - accuracy: 0.8093\n",
      "Epoch 197/200\n",
      "1395/1395 [==============================] - 1s 612us/step - loss: 0.5250 - accuracy: 0.8100\n",
      "Epoch 198/200\n",
      "1395/1395 [==============================] - 1s 695us/step - loss: 0.5054 - accuracy: 0.8129\n",
      "Epoch 199/200\n",
      "1395/1395 [==============================] - 1s 788us/step - loss: 0.4867 - accuracy: 0.8158\n",
      "Epoch 200/200\n",
      "1395/1395 [==============================] - 1s 667us/step - loss: 0.4871 - accuracy: 0.8186\n"
     ]
    },
    {
     "data": {
      "text/plain": [
       "<keras.callbacks.callbacks.History at 0x137942a00>"
      ]
     },
     "execution_count": 23,
     "metadata": {},
     "output_type": "execute_result"
    }
   ],
   "source": [
    "model.fit(X_train, y_train)"
   ]
  },
  {
   "cell_type": "code",
   "execution_count": 77,
   "metadata": {},
   "outputs": [
    {
     "name": "stdout",
     "output_type": "stream",
     "text": [
      "500/599 [========================>.....] - ETA: 0s"
     ]
    }
   ],
   "source": [
    "y_pred = model.predict(X_test)"
   ]
  },
  {
   "cell_type": "code",
   "execution_count": 78,
   "metadata": {},
   "outputs": [
    {
     "name": "stdout",
     "output_type": "stream",
     "text": [
      "0.746243739566\n"
     ]
    }
   ],
   "source": [
    "print(accuracy_score(y_pred, y_test_))"
   ]
  },
  {
   "cell_type": "markdown",
   "metadata": {},
   "source": [
    "## 3. LSTM\n",
    "- LSTM (long short-term memory) is an improved structure to solve the problem of long-term dependencies\n",
    "\n",
    "<img src=\"http://colah.github.io/posts/2015-08-Understanding-LSTMs/img/LSTM3-chain.png\" style=\"width: 600px\"/>"
   ]
  },
  {
   "cell_type": "code",
   "execution_count": 79,
   "metadata": {
    "collapsed": true,
    "jupyter": {
     "outputs_hidden": true
    }
   },
   "outputs": [],
   "source": [
    "from keras.layers import LSTM"
   ]
  },
  {
   "cell_type": "code",
   "execution_count": 80,
   "metadata": {
    "collapsed": true,
    "jupyter": {
     "outputs_hidden": true
    }
   },
   "outputs": [],
   "source": [
    "def lstm():\n",
    "    model = Sequential()\n",
    "    model.add(LSTM(50, input_shape = (49,1), return_sequences = False))\n",
    "    model.add(Dense(46))\n",
    "    model.add(Activation('softmax'))\n",
    "    \n",
    "    adam = optimizers.Adam(lr = 0.001)\n",
    "    model.compile(loss = 'categorical_crossentropy', optimizer = adam, metrics = ['accuracy'])\n",
    "    \n",
    "    return model"
   ]
  },
  {
   "cell_type": "code",
   "execution_count": 81,
   "metadata": {
    "collapsed": true,
    "jupyter": {
     "outputs_hidden": true
    }
   },
   "outputs": [],
   "source": [
    "model = KerasClassifier(build_fn = lstm, epochs = 200, batch_size = 50, verbose = 1)"
   ]
  },
  {
   "cell_type": "code",
   "execution_count": null,
   "metadata": {
    "collapsed": true,
    "jupyter": {
     "outputs_hidden": true
    }
   },
   "outputs": [],
   "source": [
    "model.fit(X_train, y_train)"
   ]
  },
  {
   "cell_type": "code",
   "execution_count": 83,
   "metadata": {},
   "outputs": [
    {
     "name": "stdout",
     "output_type": "stream",
     "text": [
      "500/599 [========================>.....] - ETA: 0s"
     ]
    }
   ],
   "source": [
    "y_pred = model.predict(X_test)"
   ]
  },
  {
   "cell_type": "code",
   "execution_count": 84,
   "metadata": {},
   "outputs": [
    {
     "name": "stdout",
     "output_type": "stream",
     "text": [
      "0.844741235392\n"
     ]
    }
   ],
   "source": [
    "# accuracy improves by adopting LSTM structure\n",
    "print(accuracy_score(y_pred, y_test_))"
   ]
  },
  {
   "cell_type": "markdown",
   "metadata": {},
   "source": [
    "## 4. Stacked LSTM\n",
    "- LSTM layers can be stacked as well"
   ]
  },
  {
   "cell_type": "code",
   "execution_count": 85,
   "metadata": {
    "collapsed": true,
    "jupyter": {
     "outputs_hidden": true
    }
   },
   "outputs": [],
   "source": [
    "def stacked_lstm():\n",
    "    model = Sequential()\n",
    "    model.add(LSTM(50, input_shape = (49,1), return_sequences = True))\n",
    "    model.add(LSTM(50, return_sequences = False))\n",
    "    model.add(Dense(46))\n",
    "    model.add(Activation('softmax'))\n",
    "    \n",
    "    adam = optimizers.Adam(lr = 0.001)\n",
    "    model.compile(loss = 'categorical_crossentropy', optimizer = adam, metrics = ['accuracy'])\n",
    "    \n",
    "    return model"
   ]
  },
  {
   "cell_type": "code",
   "execution_count": 86,
   "metadata": {
    "collapsed": true,
    "jupyter": {
     "outputs_hidden": true
    }
   },
   "outputs": [],
   "source": [
    "model = KerasClassifier(build_fn = stacked_lstm, epochs = 200, batch_size = 50, verbose = 1)"
   ]
  },
  {
   "cell_type": "code",
   "execution_count": null,
   "metadata": {
    "collapsed": true,
    "jupyter": {
     "outputs_hidden": true
    }
   },
   "outputs": [],
   "source": [
    "model.fit(X_train, y_train)"
   ]
  },
  {
   "cell_type": "code",
   "execution_count": 88,
   "metadata": {},
   "outputs": [
    {
     "name": "stdout",
     "output_type": "stream",
     "text": [
      "500/599 [========================>.....] - ETA: 0s"
     ]
    }
   ],
   "source": [
    "y_pred = model.predict(X_test)"
   ]
  },
  {
   "cell_type": "code",
   "execution_count": 89,
   "metadata": {},
   "outputs": [
    {
     "name": "stdout",
     "output_type": "stream",
     "text": [
      "0.858096828047\n"
     ]
    }
   ],
   "source": [
    "print(accuracy_score(y_pred, y_test_))"
   ]
  }
 ],
 "metadata": {
  "kernelspec": {
   "display_name": "Python 3",
   "language": "python",
   "name": "python3"
  },
  "language_info": {
   "codemirror_mode": {
    "name": "ipython",
    "version": 3
   },
   "file_extension": ".py",
   "mimetype": "text/x-python",
   "name": "python",
   "nbconvert_exporter": "python",
   "pygments_lexer": "ipython3",
   "version": "3.8.3"
  }
 },
 "nbformat": 4,
 "nbformat_minor": 4
}
